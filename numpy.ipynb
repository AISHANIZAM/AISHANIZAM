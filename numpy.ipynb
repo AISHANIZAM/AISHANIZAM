{
 "cells": [
  {
   "cell_type": "code",
   "execution_count": 1,
   "id": "43a30f1a-7e10-4a45-865a-373647396501",
   "metadata": {},
   "outputs": [],
   "source": [
    "import numpy as np"
   ]
  },
  {
   "cell_type": "code",
   "execution_count": 2,
   "id": "1a93b3bd-7d1a-410f-8bb1-d28ec83888a6",
   "metadata": {},
   "outputs": [],
   "source": [
    "a=[1,2,3,4,5]"
   ]
  },
  {
   "cell_type": "code",
   "execution_count": 3,
   "id": "4dfb4e34-eaf1-4b6e-975b-1bfa5accb1d9",
   "metadata": {},
   "outputs": [
    {
     "name": "stdout",
     "output_type": "stream",
     "text": [
      "[1, 2, 3, 4, 5]\n"
     ]
    }
   ],
   "source": [
    "print(a)"
   ]
  },
  {
   "cell_type": "code",
   "execution_count": 4,
   "id": "8311ed29-33c7-415a-8dd8-9c79e0b5dfff",
   "metadata": {},
   "outputs": [
    {
     "name": "stdout",
     "output_type": "stream",
     "text": [
      "<class 'list'>\n"
     ]
    }
   ],
   "source": [
    "print(type(a))"
   ]
  },
  {
   "cell_type": "code",
   "execution_count": 5,
   "id": "1760208e-4b1d-4bba-b842-8bdb82ab753f",
   "metadata": {},
   "outputs": [],
   "source": [
    "np_a=np.array(a)"
   ]
  },
  {
   "cell_type": "code",
   "execution_count": 6,
   "id": "cf646d41-5461-4624-a5ce-2cb532bfc93b",
   "metadata": {},
   "outputs": [
    {
     "name": "stdout",
     "output_type": "stream",
     "text": [
      "[1 2 3 4 5]\n"
     ]
    }
   ],
   "source": [
    "print(np_a)"
   ]
  },
  {
   "cell_type": "code",
   "execution_count": 7,
   "id": "f69a625f-f5ac-4dff-b9ae-ce1e2c0b890a",
   "metadata": {},
   "outputs": [
    {
     "name": "stdout",
     "output_type": "stream",
     "text": [
      "<class 'numpy.ndarray'>\n"
     ]
    }
   ],
   "source": [
    "print(type(np_a))"
   ]
  },
  {
   "cell_type": "code",
   "execution_count": 8,
   "id": "1ce488d7-01e3-46b1-9e5b-dee93a375516",
   "metadata": {},
   "outputs": [
    {
     "name": "stdout",
     "output_type": "stream",
     "text": [
      "104 µs ± 49.4 µs per loop (mean ± std. dev. of 7 runs, 10,000 loops each)\n"
     ]
    }
   ],
   "source": [
    "L=range(1000)\n",
    "%timeit [i**2 for i in L]"
   ]
  },
  {
   "cell_type": "code",
   "execution_count": 9,
   "id": "72fa8fe9-570c-4483-8d00-1c8ddfbef340",
   "metadata": {},
   "outputs": [
    {
     "name": "stdout",
     "output_type": "stream",
     "text": [
      "3.22 µs ± 173 ns per loop (mean ± std. dev. of 7 runs, 100,000 loops each)\n"
     ]
    }
   ],
   "source": [
    "a = np.arange(1000)\n",
    "%timeit a**2"
   ]
  },
  {
   "cell_type": "code",
   "execution_count": 10,
   "id": "451e626e-2de5-4cfe-be36-eee457413eea",
   "metadata": {},
   "outputs": [
    {
     "data": {
      "text/plain": [
       "array([0, 1, 2, 3])"
      ]
     },
     "execution_count": 10,
     "metadata": {},
     "output_type": "execute_result"
    }
   ],
   "source": [
    "a=np.array([0,1,2,3])\n",
    "a"
   ]
  },
  {
   "cell_type": "code",
   "execution_count": 11,
   "id": "6a0fb272-8e69-4231-8157-b86c10f0e5ba",
   "metadata": {},
   "outputs": [
    {
     "data": {
      "text/plain": [
       "1"
      ]
     },
     "execution_count": 11,
     "metadata": {},
     "output_type": "execute_result"
    }
   ],
   "source": [
    "a.ndim"
   ]
  },
  {
   "cell_type": "code",
   "execution_count": 12,
   "id": "45e4c4c9-e80f-48f3-8f4e-b0275221d0a6",
   "metadata": {},
   "outputs": [
    {
     "data": {
      "text/plain": [
       "(4,)"
      ]
     },
     "execution_count": 12,
     "metadata": {},
     "output_type": "execute_result"
    }
   ],
   "source": [
    "a.shape"
   ]
  },
  {
   "cell_type": "code",
   "execution_count": 13,
   "id": "2f0f1218-4fd8-4007-946f-7bbd6e50fc0a",
   "metadata": {},
   "outputs": [
    {
     "data": {
      "text/plain": [
       "array([[0, 1, 2],\n",
       "       [3, 4, 5]])"
      ]
     },
     "execution_count": 13,
     "metadata": {},
     "output_type": "execute_result"
    }
   ],
   "source": [
    "b = np.array([[0,1,2], [3,4,5]])\n",
    "b"
   ]
  },
  {
   "cell_type": "code",
   "execution_count": 14,
   "id": "b55ceda0-4ce0-4462-b430-fbdd2bbf7287",
   "metadata": {},
   "outputs": [
    {
     "data": {
      "text/plain": [
       "2"
      ]
     },
     "execution_count": 14,
     "metadata": {},
     "output_type": "execute_result"
    }
   ],
   "source": [
    "b.ndim"
   ]
  },
  {
   "cell_type": "code",
   "execution_count": 15,
   "id": "07dca6c3-653e-4c11-8c20-f996696c04c7",
   "metadata": {},
   "outputs": [
    {
     "data": {
      "text/plain": [
       "(2, 3)"
      ]
     },
     "execution_count": 15,
     "metadata": {},
     "output_type": "execute_result"
    }
   ],
   "source": [
    "b.shape"
   ]
  },
  {
   "cell_type": "code",
   "execution_count": 16,
   "id": "ba318204-c302-485a-a745-18b5b3e66d10",
   "metadata": {},
   "outputs": [
    {
     "data": {
      "text/plain": [
       "array([[[0, 1],\n",
       "        [2, 3]],\n",
       "\n",
       "       [[4, 5],\n",
       "        [6, 7]]])"
      ]
     },
     "execution_count": 16,
     "metadata": {},
     "output_type": "execute_result"
    }
   ],
   "source": [
    "c = np.array([[[0,1], [2,3]], [[4,5], [6,7]]])\n",
    "c"
   ]
  },
  {
   "cell_type": "code",
   "execution_count": 17,
   "id": "eac57190-e562-45d2-b034-2223605ef904",
   "metadata": {},
   "outputs": [
    {
     "data": {
      "text/plain": [
       "3"
      ]
     },
     "execution_count": 17,
     "metadata": {},
     "output_type": "execute_result"
    }
   ],
   "source": [
    "c.ndim"
   ]
  },
  {
   "cell_type": "code",
   "execution_count": 18,
   "id": "1867c8b1-4fb9-46e7-b1d3-3f5f881d2869",
   "metadata": {},
   "outputs": [
    {
     "data": {
      "text/plain": [
       "(2, 2, 2)"
      ]
     },
     "execution_count": 18,
     "metadata": {},
     "output_type": "execute_result"
    }
   ],
   "source": [
    "c.shape"
   ]
  },
  {
   "cell_type": "code",
   "execution_count": 19,
   "id": "a681b0b0-99bc-4ea0-843b-543e138c1589",
   "metadata": {},
   "outputs": [
    {
     "data": {
      "text/plain": [
       "[1, 2, 3]"
      ]
     },
     "execution_count": 19,
     "metadata": {},
     "output_type": "execute_result"
    }
   ],
   "source": [
    "my_list = [1,2,3]\n",
    "my_list"
   ]
  },
  {
   "cell_type": "code",
   "execution_count": 20,
   "id": "3895dea7-5428-49b0-a2d0-d4bc44b80e4e",
   "metadata": {},
   "outputs": [
    {
     "data": {
      "text/plain": [
       "array([1, 2, 3])"
      ]
     },
     "execution_count": 20,
     "metadata": {},
     "output_type": "execute_result"
    }
   ],
   "source": [
    "np.array(my_list)"
   ]
  },
  {
   "cell_type": "code",
   "execution_count": 21,
   "id": "50fb4892-e424-48f1-a770-87166b6c8b93",
   "metadata": {},
   "outputs": [
    {
     "data": {
      "text/plain": [
       "[[1, 2, 3], [4, 5, 6], [7, 8, 9]]"
      ]
     },
     "execution_count": 21,
     "metadata": {},
     "output_type": "execute_result"
    }
   ],
   "source": [
    "my_matrix=[[1,2,3],[4,5,6],[7,8,9]]\n",
    "my_matrix"
   ]
  },
  {
   "cell_type": "code",
   "execution_count": 22,
   "id": "dc1737a5-13a8-410f-98ea-bb52e2de011d",
   "metadata": {},
   "outputs": [
    {
     "data": {
      "text/plain": [
       "array([[1, 2, 3],\n",
       "       [4, 5, 6],\n",
       "       [7, 8, 9]])"
      ]
     },
     "execution_count": 22,
     "metadata": {},
     "output_type": "execute_result"
    }
   ],
   "source": [
    "np.array(my_matrix)"
   ]
  },
  {
   "cell_type": "code",
   "execution_count": 23,
   "id": "d9f71a54-e8f3-408c-9f4d-6dcebfa4d63c",
   "metadata": {},
   "outputs": [
    {
     "data": {
      "text/plain": [
       "(3, 3)"
      ]
     },
     "execution_count": 23,
     "metadata": {},
     "output_type": "execute_result"
    }
   ],
   "source": [
    "np.array(my_matrix).shape"
   ]
  },
  {
   "cell_type": "code",
   "execution_count": 24,
   "id": "307e4226-a7d6-4ffb-9f96-a79a31de6fa5",
   "metadata": {},
   "outputs": [
    {
     "data": {
      "text/plain": [
       "array([0, 1, 2, 3, 4, 5, 6, 7, 8, 9])"
      ]
     },
     "execution_count": 24,
     "metadata": {},
     "output_type": "execute_result"
    }
   ],
   "source": [
    "a=np.arange(10)\n",
    "a"
   ]
  },
  {
   "cell_type": "code",
   "execution_count": 25,
   "id": "8e34e63d-ecf2-485b-981c-27b720060d59",
   "metadata": {},
   "outputs": [
    {
     "data": {
      "text/plain": [
       "array([1, 3, 5, 7, 9])"
      ]
     },
     "execution_count": 25,
     "metadata": {},
     "output_type": "execute_result"
    }
   ],
   "source": [
    "b = np.arange(1,10,2)\n",
    "b"
   ]
  },
  {
   "cell_type": "code",
   "execution_count": 26,
   "id": "483013f7-49c1-4701-ac6c-29472c6159a6",
   "metadata": {},
   "outputs": [
    {
     "data": {
      "text/plain": [
       "array([0., 1., 2., 3., 4., 5.])"
      ]
     },
     "execution_count": 26,
     "metadata": {},
     "output_type": "execute_result"
    }
   ],
   "source": [
    "a = np.linspace(0,5,6)\n",
    "a"
   ]
  },
  {
   "cell_type": "code",
   "execution_count": 27,
   "id": "295af27b-d2e4-46d1-8e43-59677884652b",
   "metadata": {},
   "outputs": [
    {
     "data": {
      "text/plain": [
       "array([ 0.        ,  1.66666667,  3.33333333,  5.        ,  6.66666667,\n",
       "        8.33333333, 10.        ])"
      ]
     },
     "execution_count": 27,
     "metadata": {},
     "output_type": "execute_result"
    }
   ],
   "source": [
    "np.linspace(0,10, 7)"
   ]
  },
  {
   "cell_type": "code",
   "execution_count": 28,
   "id": "fc323707-6a45-4ce2-8c91-f0200443bfba",
   "metadata": {},
   "outputs": [
    {
     "data": {
      "text/plain": [
       "array([0., 0., 0.])"
      ]
     },
     "execution_count": 28,
     "metadata": {},
     "output_type": "execute_result"
    }
   ],
   "source": [
    "np.zeros(3)"
   ]
  },
  {
   "cell_type": "code",
   "execution_count": 29,
   "id": "16e3e42b-d6cd-450f-8960-68fed4bae594",
   "metadata": {},
   "outputs": [
    {
     "data": {
      "text/plain": [
       "array([[0., 0.],\n",
       "       [0., 0.]])"
      ]
     },
     "execution_count": 29,
     "metadata": {},
     "output_type": "execute_result"
    }
   ],
   "source": [
    "b = np.zeros((2,2))\n",
    "b"
   ]
  },
  {
   "cell_type": "code",
   "execution_count": 30,
   "id": "4c768af9-3149-4af3-a603-dc00ae868de3",
   "metadata": {},
   "outputs": [
    {
     "data": {
      "text/plain": [
       "array([[1., 1., 1.],\n",
       "       [1., 1., 1.],\n",
       "       [1., 1., 1.],\n",
       "       [1., 1., 1.]])"
      ]
     },
     "execution_count": 30,
     "metadata": {},
     "output_type": "execute_result"
    }
   ],
   "source": [
    "a = np.ones((4,3))\n",
    "a"
   ]
  },
  {
   "cell_type": "code",
   "execution_count": 31,
   "id": "cabd6ad1-3a66-4fe5-96d0-d98c29457b0d",
   "metadata": {},
   "outputs": [
    {
     "data": {
      "text/plain": [
       "array([[1., 0., 0.],\n",
       "       [0., 1., 0.],\n",
       "       [0., 0., 1.]])"
      ]
     },
     "execution_count": 31,
     "metadata": {},
     "output_type": "execute_result"
    }
   ],
   "source": [
    "c = np.eye(3)\n",
    "c"
   ]
  },
  {
   "cell_type": "code",
   "execution_count": 32,
   "id": "d2422213-bc79-4ce2-9708-cba9748e2f5b",
   "metadata": {},
   "outputs": [
    {
     "data": {
      "text/plain": [
       "array([[1., 0.],\n",
       "       [0., 1.],\n",
       "       [0., 0.]])"
      ]
     },
     "execution_count": 32,
     "metadata": {},
     "output_type": "execute_result"
    }
   ],
   "source": [
    "d=np.eye(3,2)\n",
    "d"
   ]
  },
  {
   "cell_type": "code",
   "execution_count": 33,
   "id": "8ef1e957-b6f8-4953-b956-adddc1316e06",
   "metadata": {},
   "outputs": [
    {
     "data": {
      "text/plain": [
       "array([[7, 0, 0, 0],\n",
       "       [0, 9, 0, 0],\n",
       "       [0, 0, 3, 0],\n",
       "       [0, 0, 0, 4]])"
      ]
     },
     "execution_count": 33,
     "metadata": {},
     "output_type": "execute_result"
    }
   ],
   "source": [
    "a=np.diag([7,9,3,4])\n",
    "a"
   ]
  },
  {
   "cell_type": "code",
   "execution_count": 34,
   "id": "f4e01637-2dfe-4882-bc0e-088e7bf103db",
   "metadata": {},
   "outputs": [
    {
     "data": {
      "text/plain": [
       "array([7, 9, 3, 4])"
      ]
     },
     "execution_count": 34,
     "metadata": {},
     "output_type": "execute_result"
    }
   ],
   "source": [
    "np.diag(a)"
   ]
  },
  {
   "cell_type": "code",
   "execution_count": 35,
   "id": "df1a380b-282e-4d41-9aac-531a24d4a68b",
   "metadata": {},
   "outputs": [
    {
     "name": "stdout",
     "output_type": "stream",
     "text": [
      "[ 65  15  85 118  13]\n"
     ]
    }
   ],
   "source": [
    "random_array = np.random.randint(1,121,5)\n",
    "print(random_array)"
   ]
  },
  {
   "cell_type": "code",
   "execution_count": 36,
   "id": "0a6172a3-b321-4c25-a88d-231a179189fe",
   "metadata": {},
   "outputs": [
    {
     "data": {
      "text/plain": [
       "array([0.91250904, 0.40930028, 0.46609527, 0.04921065])"
      ]
     },
     "execution_count": 36,
     "metadata": {},
     "output_type": "execute_result"
    }
   ],
   "source": [
    "a = np.random.rand(4)\n",
    "a"
   ]
  },
  {
   "cell_type": "code",
   "execution_count": 37,
   "id": "82ba9a8e-86ac-4559-be78-7aa79ba5fac9",
   "metadata": {},
   "outputs": [
    {
     "data": {
      "text/plain": [
       "array([-0.99654546,  0.25193442, -0.26717379, -0.3017178 ,  2.07698381,\n",
       "       -0.55640852,  0.06773926, -0.01669516, -1.22938232, -1.04138016,\n",
       "       -1.89331471,  0.16804112,  0.55517622,  0.1269886 , -0.29335971,\n",
       "        0.24175229,  0.44421595, -1.02878777,  0.76026283,  0.631107  ,\n",
       "       -0.52637666, -0.13707041,  1.0518758 , -2.25935436, -0.292389  ,\n",
       "       -0.55919334,  0.19295386,  0.84974779, -0.90761016,  0.15515223,\n",
       "        0.68392682,  0.09273097, -0.04877052,  0.40854885,  0.11631974,\n",
       "        0.65555775,  0.89885123,  1.39175712, -0.47635353, -1.26495697,\n",
       "        0.36844717, -0.005492  , -0.73582808, -0.23886306, -0.46454206,\n",
       "        0.50905461, -1.61387085,  1.28746462,  0.53519637, -0.94754029,\n",
       "       -1.39918324,  0.92893665, -1.0176299 ,  0.58541227,  0.81231422,\n",
       "       -0.06181983,  0.63490761,  0.23825913,  0.73384159, -0.13066626,\n",
       "       -0.12050214,  1.04190215, -0.71292313,  1.06875324, -1.01611349,\n",
       "       -0.25286527,  0.09832987,  0.28499838, -0.17059877, -0.24960007,\n",
       "        0.29868839, -0.36249413,  0.39097455, -0.5847354 ,  0.61365276,\n",
       "       -1.93920396, -0.73017534,  0.19444579, -0.9573709 , -0.23624869,\n",
       "       -0.52134784,  0.47225675, -1.29376386, -1.20386544,  0.91669983,\n",
       "       -0.31167361,  0.10091218, -0.76148751,  0.38662861,  1.23317699,\n",
       "       -0.09235751,  0.02483091,  0.79499142, -0.88806642,  0.88631168,\n",
       "       -0.50663976,  0.44117435, -0.33491273,  0.10620752,  0.37419036])"
      ]
     },
     "execution_count": 37,
     "metadata": {},
     "output_type": "execute_result"
    }
   ],
   "source": [
    "a = np.random.randn(100)\n",
    "a"
   ]
  },
  {
   "cell_type": "code",
   "execution_count": 38,
   "id": "8fdfbd22-9872-40b2-bde2-ed290dfccf1e",
   "metadata": {},
   "outputs": [
    {
     "name": "stdout",
     "output_type": "stream",
     "text": [
      "[100   2   3]\n",
      "[100   2   3]\n"
     ]
    }
   ],
   "source": [
    "a = np.array([1,2,3])\n",
    "b = a\n",
    "b[0] = 100\n",
    "print(a)\n",
    "print(b)"
   ]
  },
  {
   "cell_type": "code",
   "execution_count": 39,
   "id": "30ad346e-e59f-4962-85c2-368c8f7cc0a7",
   "metadata": {},
   "outputs": [
    {
     "name": "stdout",
     "output_type": "stream",
     "text": [
      "[ 0  1  2  3  4  5  6  7  8  9 10 11 12 13 14 15 16 17 18 19 20 21 22 23\n",
      " 24]\n",
      "(25,)\n"
     ]
    }
   ],
   "source": [
    "arr = np.arange(25)\n",
    "print(arr)\n",
    "print(arr.shape)"
   ]
  },
  {
   "cell_type": "code",
   "execution_count": 40,
   "id": "1205d642-fea2-4e4e-8d60-9f4cb164e2b6",
   "metadata": {},
   "outputs": [
    {
     "data": {
      "text/plain": [
       "array([[ 0,  1,  2,  3,  4],\n",
       "       [ 5,  6,  7,  8,  9],\n",
       "       [10, 11, 12, 13, 14],\n",
       "       [15, 16, 17, 18, 19],\n",
       "       [20, 21, 22, 23, 24]])"
      ]
     },
     "execution_count": 40,
     "metadata": {},
     "output_type": "execute_result"
    }
   ],
   "source": [
    "a1=arr.reshape(5,5)\n",
    "a1"
   ]
  },
  {
   "cell_type": "code",
   "execution_count": 41,
   "id": "ff19dd96-159b-492d-838b-94c64974e5fe",
   "metadata": {},
   "outputs": [
    {
     "name": "stdout",
     "output_type": "stream",
     "text": [
      "[[1 2 3]\n",
      " [4 5 6]]\n",
      "Shape of a: (2, 3)\n"
     ]
    }
   ],
   "source": [
    "a=np.array([[1,2,3],[4,5,6]])\n",
    "print(a)\n",
    "print(\"Shape of a: {}\".format(a.shape))"
   ]
  },
  {
   "cell_type": "code",
   "execution_count": 42,
   "id": "2a9fbbf0-88fa-4541-8e8b-adbdedfb29b7",
   "metadata": {},
   "outputs": [
    {
     "name": "stdout",
     "output_type": "stream",
     "text": [
      "[[1 2]\n",
      " [3 4]\n",
      " [5 6]]\n",
      "Shape of b: (3, 2)\n"
     ]
    }
   ],
   "source": [
    "b=a.reshape(3,2)\n",
    "print(b)\n",
    "print(\"Shape of b: {}\".format(b.shape))"
   ]
  },
  {
   "cell_type": "code",
   "execution_count": 43,
   "id": "2e52e536-bcf1-41c3-b7ae-0e5e00ac1315",
   "metadata": {},
   "outputs": [
    {
     "name": "stdout",
     "output_type": "stream",
     "text": [
      "Shape: (2, 3)\n",
      "[[1 2 3]\n",
      " [4 5 6]]\n"
     ]
    }
   ],
   "source": [
    "a=np.array([[1,2,3],[4,5,6]])\n",
    "print(\"Shape: {}\".format(a.shape))\n",
    "print(a)"
   ]
  },
  {
   "cell_type": "code",
   "execution_count": 44,
   "id": "9418b23b-1807-44f2-9554-97478d72b916",
   "metadata": {},
   "outputs": [
    {
     "name": "stdout",
     "output_type": "stream",
     "text": [
      "[[1 4]\n",
      " [2 5]\n",
      " [3 6]]\n"
     ]
    }
   ],
   "source": [
    "c=a.T\n",
    "print(c)"
   ]
  },
  {
   "cell_type": "code",
   "execution_count": 45,
   "id": "3c2d39d1-17cc-45ef-848c-1037f8989a7d",
   "metadata": {},
   "outputs": [
    {
     "data": {
      "text/plain": [
       "array([1, 2, 3, 4, 5, 6])"
      ]
     },
     "execution_count": 45,
     "metadata": {},
     "output_type": "execute_result"
    }
   ],
   "source": [
    "a=np.array([[1,2,3],[4,5,6]])\n",
    "a.ravel()"
   ]
  },
  {
   "cell_type": "code",
   "execution_count": 46,
   "id": "9fa4d5ea-294a-4172-9fe7-64717666fbbe",
   "metadata": {},
   "outputs": [
    {
     "data": {
      "text/plain": [
       "array([1, 4, 2, 5, 3, 6])"
      ]
     },
     "execution_count": 46,
     "metadata": {},
     "output_type": "execute_result"
    }
   ],
   "source": [
    "c.ravel()"
   ]
  },
  {
   "cell_type": "code",
   "execution_count": 47,
   "id": "34bceda4-1594-4cc3-8fe4-1dcf54b5fdcf",
   "metadata": {},
   "outputs": [
    {
     "data": {
      "text/plain": [
       "array([[4, 5, 6],\n",
       "       [2, 2, 8]])"
      ]
     },
     "execution_count": 47,
     "metadata": {},
     "output_type": "execute_result"
    }
   ],
   "source": [
    "a=np.array([[5,4,6],[2,8,2]])\n",
    "b=np.sort(a,axis=1)\n",
    "b"
   ]
  },
  {
   "cell_type": "code",
   "execution_count": 48,
   "id": "3fa71406-5a04-4759-a787-4ab2c874fdac",
   "metadata": {},
   "outputs": [
    {
     "name": "stdout",
     "output_type": "stream",
     "text": [
      "Numpy array after addition: [4 7 8 2 4 5]\n"
     ]
    }
   ],
   "source": [
    "a=np.array([4,7,8])\n",
    "a=np.append(a,[2,4,5])\n",
    "print('Numpy array after addition:',a)"
   ]
  },
  {
   "cell_type": "code",
   "execution_count": 49,
   "id": "4e6760d6-0c5c-4092-b00d-6b0e50e40cb3",
   "metadata": {},
   "outputs": [
    {
     "name": "stdout",
     "output_type": "stream",
     "text": [
      "Numpy array after deletion of one element: [4 7 2 4 5]\n"
     ]
    }
   ],
   "source": [
    "a=np.delete(a,2)\n",
    "print('Numpy array after deletion of one element:',a)"
   ]
  },
  {
   "cell_type": "code",
   "execution_count": 50,
   "id": "12e651e5-fda7-4968-9381-c4e0cc976461",
   "metadata": {},
   "outputs": [
    {
     "name": "stdout",
     "output_type": "stream",
     "text": [
      "[3 4 5 6 7 8 9]\n",
      "8\n"
     ]
    }
   ],
   "source": [
    "a=np.arange(3,10)\n",
    "print(a)\n",
    "print(a[5])"
   ]
  },
  {
   "cell_type": "code",
   "execution_count": 51,
   "id": "8a27f762-3107-426d-b891-3d5a8cec6a8e",
   "metadata": {},
   "outputs": [
    {
     "name": "stdout",
     "output_type": "stream",
     "text": [
      "[[1 0 0]\n",
      " [0 2 0]\n",
      " [0 0 3]]\n",
      "0\n"
     ]
    }
   ],
   "source": [
    "a=np.diag([1,2,3])\n",
    "print(a)\n",
    "print(a[2,1])"
   ]
  },
  {
   "cell_type": "code",
   "execution_count": 52,
   "id": "e0bd42a1-af98-4612-91a6-208a77c3c951",
   "metadata": {},
   "outputs": [
    {
     "data": {
      "text/plain": [
       "array([[1, 0, 0],\n",
       "       [0, 2, 0],\n",
       "       [0, 5, 3]])"
      ]
     },
     "execution_count": 52,
     "metadata": {},
     "output_type": "execute_result"
    }
   ],
   "source": [
    "a[2,1]=5\n",
    "a"
   ]
  },
  {
   "cell_type": "code",
   "execution_count": 53,
   "id": "6608743e-8299-42a4-b3de-db5a1e7f5320",
   "metadata": {},
   "outputs": [
    {
     "data": {
      "text/plain": [
       "array([ 4,  5,  6,  7,  8,  9, 10, 11, 12, 13, 14, 15, 16, 17])"
      ]
     },
     "execution_count": 53,
     "metadata": {},
     "output_type": "execute_result"
    }
   ],
   "source": [
    "a=np.arange(4,18)\n",
    "a"
   ]
  },
  {
   "cell_type": "code",
   "execution_count": 54,
   "id": "7074d9d9-001c-4ee3-824f-4311163deabc",
   "metadata": {},
   "outputs": [
    {
     "data": {
      "text/plain": [
       "array([ 5,  7,  9, 11])"
      ]
     },
     "execution_count": 54,
     "metadata": {},
     "output_type": "execute_result"
    }
   ],
   "source": [
    "a[1:8:2]"
   ]
  },
  {
   "cell_type": "code",
   "execution_count": 55,
   "id": "e0d36bbe-b5f3-4b40-bb79-b8040400d3ad",
   "metadata": {},
   "outputs": [
    {
     "data": {
      "text/plain": [
       "array([5, 6, 7, 8, 9])"
      ]
     },
     "execution_count": 55,
     "metadata": {},
     "output_type": "execute_result"
    }
   ],
   "source": [
    "a=np.arange(10)\n",
    "a[5:]"
   ]
  },
  {
   "cell_type": "code",
   "execution_count": 56,
   "id": "553faee7-de8a-4603-bc4f-ddecb284e511",
   "metadata": {},
   "outputs": [
    {
     "data": {
      "text/plain": [
       "array([ 0,  1,  2,  3,  4, 10, 10, 10, 10, 10])"
      ]
     },
     "execution_count": 56,
     "metadata": {},
     "output_type": "execute_result"
    }
   ],
   "source": [
    "a[5:]=10\n",
    "a"
   ]
  },
  {
   "cell_type": "code",
   "execution_count": 57,
   "id": "501de1fe-5565-43d5-bc5b-67e47671574c",
   "metadata": {},
   "outputs": [
    {
     "data": {
      "text/plain": [
       "array([0, 1, 2, 3, 4])"
      ]
     },
     "execution_count": 57,
     "metadata": {},
     "output_type": "execute_result"
    }
   ],
   "source": [
    "b=np.arange(5)\n",
    "b"
   ]
  },
  {
   "cell_type": "code",
   "execution_count": 58,
   "id": "c208e5da-2623-47e9-bba0-6950febb8a51",
   "metadata": {},
   "outputs": [
    {
     "data": {
      "text/plain": [
       "array([4, 3, 2, 1, 0])"
      ]
     },
     "execution_count": 58,
     "metadata": {},
     "output_type": "execute_result"
    }
   ],
   "source": [
    "b[::-1]"
   ]
  },
  {
   "cell_type": "code",
   "execution_count": 59,
   "id": "501e6615-10ba-4e5e-8dc6-c73e64af6561",
   "metadata": {},
   "outputs": [
    {
     "data": {
      "text/plain": [
       "array([0, 1, 2, 3, 4, 4, 3, 2, 1, 0])"
      ]
     },
     "execution_count": 59,
     "metadata": {},
     "output_type": "execute_result"
    }
   ],
   "source": [
    "a[5:]=b[::-1]\n",
    "a"
   ]
  },
  {
   "cell_type": "code",
   "execution_count": 60,
   "id": "ebdb3cf1-ca74-4eec-9677-1295055247ac",
   "metadata": {},
   "outputs": [
    {
     "data": {
      "text/plain": [
       "array([ 2,  2,  3,  1, 18])"
      ]
     },
     "execution_count": 60,
     "metadata": {},
     "output_type": "execute_result"
    }
   ],
   "source": [
    "a=np.random.randint(0, 20, 5)\n",
    "a"
   ]
  },
  {
   "cell_type": "code",
   "execution_count": 61,
   "id": "89a083a0-95bb-4ad2-b71b-e77cfbd24127",
   "metadata": {},
   "outputs": [
    {
     "data": {
      "text/plain": [
       "array([ 2,  2, 18])"
      ]
     },
     "execution_count": 61,
     "metadata": {},
     "output_type": "execute_result"
    }
   ],
   "source": [
    "a[a % 2 == 0]"
   ]
  },
  {
   "cell_type": "code",
   "execution_count": 62,
   "id": "a3d4fea3-dbe3-4478-9437-373ceaef1f16",
   "metadata": {},
   "outputs": [
    {
     "data": {
      "text/plain": [
       "array([-1, -1,  3,  1, -1])"
      ]
     },
     "execution_count": 62,
     "metadata": {},
     "output_type": "execute_result"
    }
   ],
   "source": [
    "a[a%2==0]=-1\n",
    "a"
   ]
  },
  {
   "cell_type": "code",
   "execution_count": 63,
   "id": "6960862b-58a4-4159-af4c-9721717ff835",
   "metadata": {},
   "outputs": [
    {
     "data": {
      "text/plain": [
       "array([  0,  10,  20,  30,  40,  50,  60,  70,  80,  90, 100])"
      ]
     },
     "execution_count": 63,
     "metadata": {},
     "output_type": "execute_result"
    }
   ],
   "source": [
    "a=np.arange(0, 101, 10)\n",
    "a"
   ]
  },
  {
   "cell_type": "code",
   "execution_count": 64,
   "id": "37b11970-e6b7-4abe-9f39-cd4e0e1d57f7",
   "metadata": {},
   "outputs": [
    {
     "data": {
      "text/plain": [
       "array([   0,   10,   20,   30,   40,   50,   60, -200,   80, -200,  100])"
      ]
     },
     "execution_count": 64,
     "metadata": {},
     "output_type": "execute_result"
    }
   ],
   "source": [
    "a[[9, 7]]= -200\n",
    "a"
   ]
  },
  {
   "cell_type": "code",
   "execution_count": 65,
   "id": "6f128298-996c-4a1a-ba69-dbcd4be0e051",
   "metadata": {},
   "outputs": [
    {
     "name": "stdout",
     "output_type": "stream",
     "text": [
      "[1 2 3 4]\n",
      "[2 3 4 5]\n"
     ]
    }
   ],
   "source": [
    "a=np.array([1,2,3,4])\n",
    "print(a)\n",
    "print(a+1)"
   ]
  },
  {
   "cell_type": "code",
   "execution_count": 66,
   "id": "e3b2c830-b402-4bac-8986-e7c7f231bdd6",
   "metadata": {},
   "outputs": [
    {
     "data": {
      "text/plain": [
       "array([ 1,  4,  9, 16])"
      ]
     },
     "execution_count": 66,
     "metadata": {},
     "output_type": "execute_result"
    }
   ],
   "source": [
    "a**2"
   ]
  },
  {
   "cell_type": "code",
   "execution_count": 67,
   "id": "a61fd127-835c-4f62-b93f-f94f3f526a03",
   "metadata": {},
   "outputs": [
    {
     "data": {
      "text/plain": [
       "array([2., 2., 2., 2.])"
      ]
     },
     "execution_count": 67,
     "metadata": {},
     "output_type": "execute_result"
    }
   ],
   "source": [
    "b=np.ones(4)+1\n",
    "b"
   ]
  },
  {
   "cell_type": "code",
   "execution_count": 68,
   "id": "139ee76b-6ad8-4e0f-9f23-da60f5d315cc",
   "metadata": {},
   "outputs": [
    {
     "data": {
      "text/plain": [
       "array([-1.,  0.,  1.,  2.])"
      ]
     },
     "execution_count": 68,
     "metadata": {},
     "output_type": "execute_result"
    }
   ],
   "source": [
    "a-b"
   ]
  },
  {
   "cell_type": "code",
   "execution_count": 69,
   "id": "a15d3557-b845-45c2-868e-5392fc3c7e6f",
   "metadata": {},
   "outputs": [
    {
     "data": {
      "text/plain": [
       "array([2., 4., 6., 8.])"
      ]
     },
     "execution_count": 69,
     "metadata": {},
     "output_type": "execute_result"
    }
   ],
   "source": [
    "a*b"
   ]
  },
  {
   "cell_type": "code",
   "execution_count": 70,
   "id": "7cc12115-9133-4c71-bcda-74e631d2a302",
   "metadata": {},
   "outputs": [
    {
     "name": "stdout",
     "output_type": "stream",
     "text": [
      "Sum of a and b :\n",
      " [[ 5  6]\n",
      " [ 7  8]\n",
      " [ 9 10]]\n"
     ]
    }
   ],
   "source": [
    "a=np.array([[1,2],[3,4],[5,6]])\n",
    "b=np.array([[4,4],[4,4],[4,4]])\n",
    "print('Sum of a and b :\\n',a+b)"
   ]
  },
  {
   "cell_type": "code",
   "execution_count": 71,
   "id": "ff177592-d43f-4d62-84b8-a693cc34a854",
   "metadata": {},
   "outputs": [
    {
     "name": "stdout",
     "output_type": "stream",
     "text": [
      "Product of a and b:\n",
      " [[ 4  8]\n",
      " [12 16]\n",
      " [20 24]]\n"
     ]
    }
   ],
   "source": [
    "print('Product of a and b:\\n', a*b)"
   ]
  },
  {
   "cell_type": "code",
   "execution_count": 72,
   "id": "8bcba360-32d4-4a93-b6a0-aa61f361cfcb",
   "metadata": {},
   "outputs": [
    {
     "name": "stdout",
     "output_type": "stream",
     "text": [
      "[[ 1  0  0  0]\n",
      " [ 0  4  0  0]\n",
      " [ 0  0  9  0]\n",
      " [ 0  0  0 16]]\n"
     ]
    }
   ],
   "source": [
    "c=np.diag([1,2,3,4])\n",
    "print(c * c)"
   ]
  },
  {
   "cell_type": "code",
   "execution_count": 73,
   "id": "f2aa1498-86f2-4ab6-9d82-5fbce434b57c",
   "metadata": {},
   "outputs": [
    {
     "name": "stdout",
     "output_type": "stream",
     "text": [
      "Matrix multiplication:\n",
      " [[16 16  8]\n",
      " [40 40 20]\n",
      " [64 64 32]]\n"
     ]
    }
   ],
   "source": [
    "a = np.array([[1,2,1],[3,4,3],[5,6,5]])\n",
    "b = np.array([[4,4,1],[4,4,2],[4,4,3]])\n",
    "print('Matrix multiplication:\\n',np.matmul(a,b))"
   ]
  },
  {
   "cell_type": "code",
   "execution_count": 74,
   "id": "eb5a9199-fab4-4d93-809f-01c7eb8b497c",
   "metadata": {},
   "outputs": [
    {
     "data": {
      "text/plain": [
       "array([False,  True, False,  True])"
      ]
     },
     "execution_count": 74,
     "metadata": {},
     "output_type": "execute_result"
    }
   ],
   "source": [
    "a = np.array([1, 2, 3, 4])\n",
    "b = np.array([5, 2, 2, 4])\n",
    "a == b"
   ]
  },
  {
   "cell_type": "code",
   "execution_count": 75,
   "id": "0cced1b2-42b1-4bf6-91da-7e142ae5f99c",
   "metadata": {},
   "outputs": [
    {
     "data": {
      "text/plain": [
       "array([False, False,  True, False])"
      ]
     },
     "execution_count": 75,
     "metadata": {},
     "output_type": "execute_result"
    }
   ],
   "source": [
    "a > b"
   ]
  },
  {
   "cell_type": "code",
   "execution_count": 76,
   "id": "b8878440-fd4e-46f7-9363-2527113480da",
   "metadata": {},
   "outputs": [],
   "source": [
    "a = np.array([1,2,3,4])\n",
    "b = np.array([5,2,2,4])\n",
    "c = np.array([1,2,3,4])"
   ]
  },
  {
   "cell_type": "code",
   "execution_count": 91,
   "id": "f51c6f6c-3dcb-4b5b-9806-e6e73dd39d4a",
   "metadata": {},
   "outputs": [
    {
     "data": {
      "text/plain": [
       "False"
      ]
     },
     "execution_count": 91,
     "metadata": {},
     "output_type": "execute_result"
    }
   ],
   "source": [
    "np.array_equal(a, b)"
   ]
  },
  {
   "cell_type": "code",
   "execution_count": 92,
   "id": "3d140b07-13c1-417f-aa2d-b4fa89edadb5",
   "metadata": {},
   "outputs": [
    {
     "data": {
      "text/plain": [
       "False"
      ]
     },
     "execution_count": 92,
     "metadata": {},
     "output_type": "execute_result"
    }
   ],
   "source": [
    "np.array_equal(a,c)"
   ]
  },
  {
   "cell_type": "code",
   "execution_count": 78,
   "id": "a18a478c-8ec1-49da-a2f5-ef34b167cb8b",
   "metadata": {},
   "outputs": [
    {
     "data": {
      "text/plain": [
       "array([ True,  True,  True, False])"
      ]
     },
     "execution_count": 78,
     "metadata": {},
     "output_type": "execute_result"
    }
   ],
   "source": [
    "a = np.array([1, 1, 0, 0], dtype=bool)\n",
    "b = np.array([1, 0, 1, 0], dtype=bool)\n",
    "np.logical_or(a, b)"
   ]
  },
  {
   "cell_type": "code",
   "execution_count": 79,
   "id": "24fee057-8603-4a6d-b7d7-43345cd20842",
   "metadata": {},
   "outputs": [
    {
     "data": {
      "text/plain": [
       "array([ True, False, False, False])"
      ]
     },
     "execution_count": 79,
     "metadata": {},
     "output_type": "execute_result"
    }
   ],
   "source": [
    "np.logical_and(a, b)"
   ]
  },
  {
   "cell_type": "code",
   "execution_count": 80,
   "id": "c6263524-33a4-4d9e-a9ae-0a98c4736588",
   "metadata": {},
   "outputs": [
    {
     "data": {
      "text/plain": [
       "array([ 0.        ,  0.84147098,  0.90929743,  0.14112001, -0.7568025 ])"
      ]
     },
     "execution_count": 80,
     "metadata": {},
     "output_type": "execute_result"
    }
   ],
   "source": [
    "a = np.arange(5)\n",
    "np.sin(a)"
   ]
  },
  {
   "cell_type": "code",
   "execution_count": 81,
   "id": "22d96850-4059-41e7-9cfb-363d7083ad09",
   "metadata": {},
   "outputs": [
    {
     "name": "stderr",
     "output_type": "stream",
     "text": [
      "C:\\Users\\LENOVO\\AppData\\Local\\Temp\\ipykernel_17980\\176755284.py:1: RuntimeWarning: divide by zero encountered in log\n",
      "  np.log(a)\n"
     ]
    },
    {
     "data": {
      "text/plain": [
       "array([      -inf, 0.        , 0.69314718, 1.09861229, 1.38629436])"
      ]
     },
     "execution_count": 81,
     "metadata": {},
     "output_type": "execute_result"
    }
   ],
   "source": [
    "np.log(a)"
   ]
  },
  {
   "cell_type": "code",
   "execution_count": 82,
   "id": "6b74577a-be8c-43ab-bac4-314f38fa946f",
   "metadata": {},
   "outputs": [
    {
     "data": {
      "text/plain": [
       "array([ 1.        ,  2.71828183,  7.3890561 , 20.08553692, 54.59815003])"
      ]
     },
     "execution_count": 82,
     "metadata": {},
     "output_type": "execute_result"
    }
   ],
   "source": [
    "np.exp(a)"
   ]
  },
  {
   "cell_type": "code",
   "execution_count": 83,
   "id": "7a47f912-a4b7-44fa-8439-e1b5ae7bb028",
   "metadata": {},
   "outputs": [
    {
     "ename": "ValueError",
     "evalue": "operands could not be broadcast together with shapes (4,) (2,) ",
     "output_type": "error",
     "traceback": [
      "\u001b[1;31m---------------------------------------------------------------------------\u001b[0m",
      "\u001b[1;31mValueError\u001b[0m                                Traceback (most recent call last)",
      "Cell \u001b[1;32mIn[83], line 2\u001b[0m\n\u001b[0;32m      1\u001b[0m a \u001b[38;5;241m=\u001b[39m np\u001b[38;5;241m.\u001b[39marange(\u001b[38;5;241m4\u001b[39m)\n\u001b[1;32m----> 2\u001b[0m a \u001b[38;5;241m+\u001b[39m np\u001b[38;5;241m.\u001b[39marray([\u001b[38;5;241m1\u001b[39m, \u001b[38;5;241m2\u001b[39m])\n",
      "\u001b[1;31mValueError\u001b[0m: operands could not be broadcast together with shapes (4,) (2,) "
     ]
    }
   ],
   "source": [
    "a = np.arange(4)\n",
    "a + np.array([1, 2])"
   ]
  },
  {
   "cell_type": "code",
   "execution_count": null,
   "id": "189f141a-10b9-43eb-b18f-556d8218a121",
   "metadata": {},
   "outputs": [],
   "source": [
    "x = np.array([1, 2, 3,4])\n",
    "np.sum(x)"
   ]
  },
  {
   "cell_type": "code",
   "execution_count": null,
   "id": "96a62c98-5b4b-48f3-bd47-1d12c530c232",
   "metadata": {},
   "outputs": [],
   "source": [
    "x = np.array([[1,1,],[2,2]])\n",
    "x"
   ]
  },
  {
   "cell_type": "code",
   "execution_count": null,
   "id": "aca27bf9-9aab-48c1-9389-bb4060059bac",
   "metadata": {},
   "outputs": [],
   "source": [
    "x.sum(axis=0)"
   ]
  },
  {
   "cell_type": "code",
   "execution_count": 84,
   "id": "45e6755c-605e-479f-b9b9-83980066b8a5",
   "metadata": {},
   "outputs": [
    {
     "ename": "NameError",
     "evalue": "name 'x' is not defined",
     "output_type": "error",
     "traceback": [
      "\u001b[1;31m---------------------------------------------------------------------------\u001b[0m",
      "\u001b[1;31mNameError\u001b[0m                                 Traceback (most recent call last)",
      "Cell \u001b[1;32mIn[84], line 1\u001b[0m\n\u001b[1;32m----> 1\u001b[0m x\u001b[38;5;241m.\u001b[39msum(axis\u001b[38;5;241m=\u001b[39m\u001b[38;5;241m1\u001b[39m)\n",
      "\u001b[1;31mNameError\u001b[0m: name 'x' is not defined"
     ]
    }
   ],
   "source": [
    "x.sum(axis=1)"
   ]
  },
  {
   "cell_type": "code",
   "execution_count": 85,
   "id": "df797beb-5de8-4e5a-b213-379e6f092f82",
   "metadata": {},
   "outputs": [
    {
     "data": {
      "text/plain": [
       "1"
      ]
     },
     "execution_count": 85,
     "metadata": {},
     "output_type": "execute_result"
    }
   ],
   "source": [
    "x = np.array([1, 3, 2])\n",
    "x.min()"
   ]
  },
  {
   "cell_type": "code",
   "execution_count": 86,
   "id": "d223d788-ad27-47f3-9088-60e81f0ae66e",
   "metadata": {},
   "outputs": [
    {
     "data": {
      "text/plain": [
       "3"
      ]
     },
     "execution_count": 86,
     "metadata": {},
     "output_type": "execute_result"
    }
   ],
   "source": [
    "x.max()"
   ]
  },
  {
   "cell_type": "code",
   "execution_count": 87,
   "id": "ae4be020-33ba-402e-b584-8353794197a5",
   "metadata": {},
   "outputs": [
    {
     "data": {
      "text/plain": [
       "0"
      ]
     },
     "execution_count": 87,
     "metadata": {},
     "output_type": "execute_result"
    }
   ],
   "source": [
    "x.argmin()"
   ]
  },
  {
   "cell_type": "code",
   "execution_count": 88,
   "id": "d25f52a6-9eb8-4570-8627-8368451d7b4d",
   "metadata": {},
   "outputs": [
    {
     "data": {
      "text/plain": [
       "1"
      ]
     },
     "execution_count": 88,
     "metadata": {},
     "output_type": "execute_result"
    }
   ],
   "source": [
    "x.argmax()"
   ]
  },
  {
   "cell_type": "code",
   "execution_count": 90,
   "id": "49ba124b-f87f-4d12-90b5-9297cf3d5a31",
   "metadata": {},
   "outputs": [
    {
     "name": "stdout",
     "output_type": "stream",
     "text": [
      "Array is  [0 1 2 3 4 5 6 7 8 9]\n",
      "min element is  0\n",
      "max element is  9\n",
      "Sum of elements on array is  45\n",
      "mean of elements in array is  4.5\n",
      "median of elements in array is  4.5\n",
      "standard deviation of elements in array is  2.8722813232690143\n"
     ]
    }
   ],
   "source": [
    "normal_array = np.arange(0,10,1)\n",
    "print('Array is ',format(normal_array))\n",
    "print('min element is ',np.min(normal_array))\n",
    "print('max element is ',np.max(normal_array))\n",
    "print('Sum of elements on array is ',np.sum(normal_array))\n",
    "print('mean of elements in array is ',np.mean(normal_array))\n",
    "print('median of elements in array is ',np.median(normal_array))\n",
    "print('standard deviation of elements in array is ',np.std(normal_array))"
   ]
  },
  {
   "cell_type": "code",
   "execution_count": null,
   "id": "0317c1e1-5a08-40fc-9f2e-c5d4c6cbc182",
   "metadata": {},
   "outputs": [],
   "source": []
  }
 ],
 "metadata": {
  "kernelspec": {
   "display_name": "Python 3 (ipykernel)",
   "language": "python",
   "name": "python3"
  },
  "language_info": {
   "codemirror_mode": {
    "name": "ipython",
    "version": 3
   },
   "file_extension": ".py",
   "mimetype": "text/x-python",
   "name": "python",
   "nbconvert_exporter": "python",
   "pygments_lexer": "ipython3",
   "version": "3.11.7"
  }
 },
 "nbformat": 4,
 "nbformat_minor": 5
}
